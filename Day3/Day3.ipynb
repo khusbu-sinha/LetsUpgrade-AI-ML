{
 "cells": [
  {
   "cell_type": "code",
   "execution_count": 31,
   "metadata": {},
   "outputs": [
    {
     "name": "stdout",
     "output_type": "stream",
     "text": [
      "Enter the 1st complex number:24+24j\n",
      "Enter the 2nd complex number:2+2j\n",
      "Subtraction of (24+24j) and (2+2j) = (22+22j)\n"
     ]
    }
   ],
   "source": [
    "#Solution 1: Subtracting two complex numbers\n",
    "a = complex(input(\"Enter the 1st complex number:\"))\n",
    "b = complex(input(\"Enter the 2nd complex number:\"))\n",
    "c = a-b\n",
    "print(\"Subtraction of\", a,\"and\", b, \"=\",c)"
   ]
  },
  {
   "cell_type": "code",
   "execution_count": 32,
   "metadata": {},
   "outputs": [
    {
     "name": "stdout",
     "output_type": "stream",
     "text": [
      "Enter the number:20736\n",
      "The fourth root of 20736.0 = 12.0\n"
     ]
    }
   ],
   "source": [
    "#Solution 2: Finding forth root of a given number\n",
    "a = float(input(\"Enter the number:\"))\n",
    "b = a**0.25\n",
    "print(\"The fourth root of\",a,\"=\",b)"
   ]
  },
  {
   "cell_type": "code",
   "execution_count": 29,
   "metadata": {},
   "outputs": [
    {
     "name": "stdout",
     "output_type": "stream",
     "text": [
      "Enter the 1st number:24\n",
      "Enter the 2nd number:32\n",
      "The no.s before swap= 24 32\n",
      "The no.s after swap= 32 24\n"
     ]
    }
   ],
   "source": [
    "#Solution 3: Swapping two numbers using a temporary variable\n",
    "a = int(input(\"Enter the 1st number:\"))\n",
    "b = int(input(\"Enter the 2nd number:\"))\n",
    "print(\"The no.s before swap=\",a,b)\n",
    "temp = a\n",
    "a = b\n",
    "b = temp\n",
    "print(\"The no.s after swap=\",a,b)"
   ]
  },
  {
   "cell_type": "code",
   "execution_count": 22,
   "metadata": {},
   "outputs": [
    {
     "name": "stdout",
     "output_type": "stream",
     "text": [
      "Enter the 1st number:24\n",
      "Enter the 2nd number:32\n",
      "The no.s before swap= 24 32\n",
      "The no.s after swap= 32 24\n"
     ]
    }
   ],
   "source": [
    "#Solution 4: Swapping two numbers without using a temporary variable\n",
    "a = int(input(\"Enter the 1st number:\"))\n",
    "b = int(input(\"Enter the 2nd number:\"))\n",
    "print(\"The no.s before swap=\",a,b)\n",
    "a = a+b\n",
    "b = a-b\n",
    "a = a-b\n",
    "print(\"The no.s after swap=\",a,b)"
   ]
  },
  {
   "cell_type": "code",
   "execution_count": 34,
   "metadata": {},
   "outputs": [
    {
     "name": "stdout",
     "output_type": "stream",
     "text": [
      "Enter the temperature in Fahreinheit:22\n",
      "The temperature in kelvin is 5630.4111111600005 degrees Kelvin\n",
      "The temperature in Celsius is -378.88840000000005 degrees Celsius\n"
     ]
    }
   ],
   "source": [
    "# Solution 5: Converting Fahreinheit to Kelvin and Celsius both\n",
    "a = float(input(\"Enter the temperature in Fahreinheit:\"))\n",
    "print(\"The temperature in kelvin is\", a*(255.92777778),\"degrees Kelvin\")\n",
    "print(\"The temperature in Celsius is\", a*(-17.2222),\"degrees Celsius\")"
   ]
  },
  {
   "cell_type": "code",
   "execution_count": null,
   "metadata": {},
   "outputs": [],
   "source": [
    "#Solution 6\n",
    "x=10;\n",
    "print(type(x))\n",
    "y=12.78\n",
    "print(type(y))\n",
    "z = \"Python\"\n",
    "print(type(z))\n",
    "c = 6+7j\n",
    "print(type(c))\n",
    "d = 896538908765432780935678903456278\n",
    "print(type(d))\n",
    "\n"
   ]
  },
  {
   "cell_type": "markdown",
   "metadata": {},
   "source": [
    "#Solution 7\n",
    "\n",
    "1) Create your GitHub account\n",
    "2) Create a Github public repo and name it LetsUpgrade AI/ML\n",
    "3) Create your folder for each day's assignment\n",
    "4) Upload the files/solution in the repo in day wise manner\n",
    "5) Copy the URL of the Folder of that day and paste in the Assignment Submission Form (Google Form)"
   ]
  }
 ],
 "metadata": {
  "kernelspec": {
   "display_name": "Python 3",
   "language": "python",
   "name": "python3"
  },
  "language_info": {
   "codemirror_mode": {
    "name": "ipython",
    "version": 3
   },
   "file_extension": ".py",
   "mimetype": "text/x-python",
   "name": "python",
   "nbconvert_exporter": "python",
   "pygments_lexer": "ipython3",
   "version": "3.7.6"
  }
 },
 "nbformat": 4,
 "nbformat_minor": 4
}
