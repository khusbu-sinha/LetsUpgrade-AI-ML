{
 "cells": [
  {
   "cell_type": "code",
   "execution_count": 1,
   "metadata": {
    "colab": {
     "base_uri": "https://localhost:8080/",
     "height": 170
    },
    "colab_type": "code",
    "id": "6eTTMbOSVFHu",
    "outputId": "2ae9ff53-b52b-4715-a441-94ed1c21626d"
   },
   "outputs": [
    {
     "name": "stdout",
     "output_type": "stream",
     "text": [
      "Enter the 1st complex number:2+7j\n",
      "Enter the 2nd complex number:4+7j\n",
      "Addition of (2+7j) and (4+7j) = (6+14j)\n",
      "Difference of (2+7j) and (4+7j) = (-2+0j)\n",
      "Multiplication of (2+7j) and (4+7j) = (-41+42j)\n",
      "Division of (2+7j) and (4+7j) = (0.8769230769230769+0.2153846153846154j)\n",
      "Floor division can't be performed on a complex no.\n",
      "Modulo of (2+7j) = 7.280109889280518\n",
      "Modulo of (4+7j) = 8.06225774829855\n"
     ]
    }
   ],
   "source": [
    "#Solution 1\n",
    "a = complex(input(\"Enter the 1st complex number:\"))\n",
    "b = complex(input(\"Enter the 2nd complex number:\"))\n",
    "#Addition of complex no.s\n",
    "sum = a+b\n",
    "print(\"Addition of\",a,\"and\",b,\"=\",sum)\n",
    "#Subtraction of complex no.s\n",
    "difference = a-b\n",
    "print(\"Difference of\",a,\"and\",b,\"=\",difference)\n",
    "#Multiplication of complex no.s\n",
    "product = a*b\n",
    "print(\"Multiplication of\",a,\"and\",b,\"=\",product)\n",
    "#Division of complex no.s\n",
    "quotient = a/b\n",
    "print(\"Division of\",a,\"and\",b,\"=\",quotient)\n",
    "print(\"Floor division can't be performed on a complex no.\")\n",
    "#Modulo on a complex no.\n",
    "mod1 = abs(a)\n",
    "print(\"Modulo of\", a,\"=\",mod1)\n",
    "mod2 = abs(b)\n",
    "print(\"Modulo of\", b,\"=\",mod2)"
   ]
  },
  {
   "cell_type": "markdown",
   "metadata": {
    "colab_type": "text",
    "id": "gaIO73SQ-se0"
   },
   "source": [
    "# Solution 2\n",
    "range() in Python:\n",
    "range() is used to generate the integer numbers between the given start integer to the stop integer. Using for loop, we can iterate over a sequence of numbers produced by the range() function.\n",
    "\n",
    "#range() function syntax and arguments:\n",
    "range(start, stop[, step])\n",
    "It takes three arguments. Out of the three 2 arguments are optional. I.e., start and step are the optional arguments.\n",
    "\n",
    "A start argument is a starting number of the sequence. i.e., lower limit. By default, it starts with 0 if not specified.\n",
    "\n",
    "A stop argument is an upper limit. i.e., generate numbers up to this number, The range() doesn’t include this number in the result.\n",
    "\n",
    "The step is a difference between each number in the result. The default value of the step is 1 if not specified.\n",
    "\n",
    "##Regarding  range() function arguments\n",
    "range() only works with the integers. All arguments must be integers. We can't use float number or any other type in a start, stop and step argument of a range().\n",
    "\n",
    "All three arguments can be positive or negative.\n",
    "The step value must not be zero. If a step is zero Python raises a ValueError exception.\n",
    "\n",
    "##Examples\n",
    "```\n",
    "`# Example1`\n",
    "```print(\"Python range() example\")\n",
    "print(\"Get numbers from range 0 to 10\")\n",
    "for i in range(10):\n",
    "    print(i, end=', ')\n",
    "\n",
    "Here we get integers from 0 to 9 because range() function doesn’t include the last (stop) number in the result.\n",
    "\n",
    "# Example 2\n",
    "# using two arguments (i.e., start and stop)\n",
    "# Print integers within given start and stop number using range()\n",
    "for i in range(5, 10):\n",
    "    print(i, end=', ')\n",
    "#Note: By default, it took step value as 1.\n",
    "\n",
    "#Example 3\n",
    "#using all three arguments\n",
    "# using start, stop, and step arguments in range()\n",
    "print(\"Printing All even numbers between 2 and 10 using range()\")\n",
    "for i in range(2, 10, 2):\n",
    "    print(i, end=', ')\n",
    "\"\"\"All three arguments are specified i.e., start = 2, stop = 10, step = 2.  The step value is 2 so the difference between each number is 2.\"\"\"\n",
    "\n",
    "\n"
   ]
  },
  {
   "cell_type": "markdown",
   "metadata": {
    "colab_type": "text",
    "id": "xL3vCTUmAx8X"
   },
   "source": []
  },
  {
   "cell_type": "code",
   "execution_count": 2,
   "metadata": {
    "colab": {
     "base_uri": "https://localhost:8080/",
     "height": 68
    },
    "colab_type": "code",
    "id": "Oz5X55ryYnZD",
    "outputId": "a9210170-55f8-4913-f544-4a50164852ec"
   },
   "outputs": [
    {
     "name": "stdout",
     "output_type": "stream",
     "text": [
      "Enter 1st number:34\n",
      "Enter 2nd number:23\n",
      "Division of 34 and 23 = 1.4782608695652173\n"
     ]
    }
   ],
   "source": [
    "#Solution 3\n",
    "a = int(input(\"Enter 1st number:\"))\n",
    "b = int(input(\"Enter 2nd number:\"))\n",
    "if a-b>25:\n",
    "  print(\"Multiplication of\",a,\"and\",b,\"=\",a*b)\n",
    "else: \n",
    "  print(\"Division of\",a,\"and\",b,\"=\",a/b)"
   ]
  },
  {
   "cell_type": "code",
   "execution_count": 10,
   "metadata": {
    "colab": {
     "base_uri": "https://localhost:8080/",
     "height": 238
    },
    "colab_type": "code",
    "id": "k-cXjiJDdZdb",
    "outputId": "d8ae66cf-e8c2-43a8-87c7-f924b7534d76"
   },
   "outputs": [
    {
     "name": "stdout",
     "output_type": "stream",
     "text": [
      "2\n",
      "4\n",
      "6\n",
      "8\n",
      "3\n",
      "5\n",
      "7\n",
      "9\n",
      "1\n",
      "2 : 2\n",
      "4 : 14\n",
      "6 : 34\n",
      "8 : 62\n"
     ]
    }
   ],
   "source": [
    "#Solution 4\n",
    "# Creating an empty list \n",
    "listOfNumbers = []   \n",
    "# iterating the list\n",
    "for i in range(1, 10): \n",
    "    element = int(input())\n",
    "    # adding the element   \n",
    "    listOfNumbers.append(element) \n",
    "for i in listOfNumbers:\n",
    "  if i%2==0:\n",
    "    print(i,\":\",(i**2)-2)"
   ]
  },
  {
   "cell_type": "code",
   "execution_count": 16,
   "metadata": {
    "colab": {
     "base_uri": "https://localhost:8080/",
     "height": 187
    },
    "colab_type": "code",
    "id": "KqvWbE-NgOOb",
    "outputId": "6e206cad-334f-4320-dae9-dc53cebe2502"
   },
   "outputs": [
    {
     "name": "stdout",
     "output_type": "stream",
     "text": [
      "2\n",
      "3\n",
      "4\n",
      "5\n",
      "6\n",
      "7\n",
      "8\n",
      "9\n",
      "9\n",
      "2\n"
     ]
    }
   ],
   "source": [
    "#Solution 5\n",
    "# Creating an empty list \n",
    "listOfNumbers = []   \n",
    "# iterating the list\n",
    "for i in range(0, 10): \n",
    "  element = int(input())\n",
    "  # adding the element   \n",
    "  listOfNumbers.append(element) \n",
    "for i in listOfNumbers:\n",
    "  if (i/2)>7:\n",
    "    print(i)\n",
    "    "
   ]
  },
  {
   "cell_type": "code",
   "execution_count": null,
   "metadata": {
    "colab": {},
    "colab_type": "code",
    "id": "W5g5tv-QgOQl"
   },
   "outputs": [],
   "source": []
  }
 ],
 "metadata": {
  "colab": {
   "collapsed_sections": [],
   "name": "Day 4.ipynb",
   "provenance": []
  },
  "kernelspec": {
   "display_name": "Python 3",
   "language": "python",
   "name": "python3"
  },
  "language_info": {
   "codemirror_mode": {
    "name": "ipython",
    "version": 3
   },
   "file_extension": ".py",
   "mimetype": "text/x-python",
   "name": "python",
   "nbconvert_exporter": "python",
   "pygments_lexer": "ipython3",
   "version": "3.7.6"
  }
 },
 "nbformat": 4,
 "nbformat_minor": 1
}
