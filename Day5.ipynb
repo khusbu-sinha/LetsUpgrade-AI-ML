{
  "nbformat": 4,
  "nbformat_minor": 0,
  "metadata": {
    "colab": {
      "name": "Day5.ipynb",
      "provenance": [],
      "collapsed_sections": []
    },
    "kernelspec": {
      "name": "python3",
      "display_name": "Python 3"
    }
  },
  "cells": [
    {
      "cell_type": "code",
      "metadata": {
        "id": "g7DZOGDwsoRM",
        "colab_type": "code",
        "colab": {
          "base_uri": "https://localhost:8080/",
          "height": 731
        },
        "outputId": "3271e8f2-8ad6-4276-c442-8697d8500612"
      },
      "source": [
        "# Solution 1\n",
        "# First 20 non-even prime natural numbers\n",
        "count =0\n",
        "num = 1\n",
        "while count<=20:\n",
        "  #Iterating from 2 to number/2\n",
        "   for i in range (2, num):\n",
        "     # If num is not divisible by 2 and any number between 2 and num/2, it's a non-even prime number\n",
        "     if (num % i) != 0:\n",
        "       print(num,\"\\n\")\n",
        "       count+=1\n",
        "       break\n",
        "   num+=1"
      ],
      "execution_count": 20,
      "outputs": [
        {
          "output_type": "stream",
          "text": [
            "3 \n",
            "\n",
            "4 \n",
            "\n",
            "5 \n",
            "\n",
            "6 \n",
            "\n",
            "7 \n",
            "\n",
            "8 \n",
            "\n",
            "9 \n",
            "\n",
            "10 \n",
            "\n",
            "11 \n",
            "\n",
            "12 \n",
            "\n",
            "13 \n",
            "\n",
            "14 \n",
            "\n",
            "15 \n",
            "\n",
            "16 \n",
            "\n",
            "17 \n",
            "\n",
            "18 \n",
            "\n",
            "19 \n",
            "\n",
            "20 \n",
            "\n",
            "21 \n",
            "\n",
            "22 \n",
            "\n",
            "23 \n",
            "\n"
          ],
          "name": "stdout"
        }
      ]
    },
    {
      "cell_type": "code",
      "metadata": {
        "id": "YdvMIipIskI3",
        "colab_type": "code",
        "colab": {
          "base_uri": "https://localhost:8080/",
          "height": 306
        },
        "outputId": "1655c688-67d5-4410-82af-4ec719f2f59a"
      },
      "source": [
        "#Solution 2\n",
        "#String methods in Python\n",
        "# 1. capitalize()\n",
        "str1 =\"letsUpgrade\"\n",
        "capitalized_string = str1.capitalize()\n",
        "print(\"Old String:\", str1)\n",
        "print(\"Capitalized string:\", capitalized_string)\n",
        "# 2. count()\n",
        "str2 =\"LetsUpgrade learning\"\n",
        "substring =\"learning\"\n",
        "count = str2.count(substring)\n",
        "print(\"The count is:\",count)\n",
        "# 3. endswith()\n",
        "str3 = \"Learning is fun\"\n",
        "result1 = str3.endswith(\"is fun\")\n",
        "print(result1)\n",
        "# 4. find()\n",
        "str4 = \"to learn, to learn, to learn\"\n",
        "print(str4.find(\"to learn\"))\n",
        "#firstOccurence\n",
        "result2 = str3.find(\"to learn\")\n",
        "print(result2)\n",
        "# 5. index()\n",
        "str4 = \"Python programming\"\n",
        "result3 = str4.index(\"programming\")\n",
        "print (\"programming:\", result3)\n",
        "# 6. isalnum()\n",
        "str5 = \"K45van\"\n",
        "print(str5.isalnum())\n",
        "# 7. isalpha()\n",
        "str6 = \"Khusbu\"\n",
        "print(str6.isalpha())\n",
        "# 8. isdecimal()\n",
        "str7 = \"234678\"\n",
        "print(str7.isdecimal())\n",
        "# 9. isdigit()\n",
        "str8 = \"28212\"\n",
        "print (str8.isdigit())\n",
        "# 10.isidentifier()\n",
        "str9 = \"Python\"\n",
        "print(str9.isidentifier())\n",
        "# 11. islower()\n",
        "str10 = \"this is lower case\"\n",
        "print(str10.islower())\n",
        "# 12. isupper()\n",
        "str11 = \"THIS IS UPPER CASE\"\n",
        "print(str11.isupper())\n",
        "# 13. isspace()\n",
        "str12 = \" \\t\"\n",
        "print (str12.isspace())\n",
        "# 14. join()\n",
        "str13 = \"Python\"\n",
        "str14 = \"programming\"\n",
        "print (str13.join(str14))\n",
        "# 15. swapcase()\n",
        "str15 = \"MAKE THIS LOWER CASE\"\n",
        "print (str15.swapcase())\n"
      ],
      "execution_count": 11,
      "outputs": [
        {
          "output_type": "stream",
          "text": [
            "Old String: letsUpgrade\n",
            "Capitalized string: Letsupgrade\n",
            "The count is: 1\n",
            "True\n",
            "0\n",
            "-1\n",
            "programming: 7\n",
            "True\n",
            "True\n",
            "True\n",
            "True\n",
            "True\n",
            "True\n",
            "True\n",
            "True\n",
            "pPythonrPythonoPythongPythonrPythonaPythonmPythonmPythoniPythonnPythong\n",
            "make this lower case\n"
          ],
          "name": "stdout"
        }
      ]
    },
    {
      "cell_type": "code",
      "metadata": {
        "id": "0qlwNDOFs5mh",
        "colab_type": "code",
        "colab": {
          "base_uri": "https://localhost:8080/",
          "height": 85
        },
        "outputId": "e1a44d27-ac31-4427-f19f-1436accd1d53"
      },
      "source": [
        "#Solution 3\n",
        "#Checking if a given string is palindrome\n",
        "def isPalindrome(str):\n",
        "  #Looping from 0 to mid of string\n",
        "  for i in range (0,int(len(str)/2)):\n",
        "    if str[i] != str[len(str)-i-1]:\n",
        "      return False\n",
        "  return True\n",
        "\n",
        "#Checking if given strings are anagrams\n",
        "def areAnagrams(str1, str2):\n",
        "  #Getting lengths of both strings\n",
        "  #Getting lengths of both strings\n",
        "  n1 = len(str1)\n",
        "  n2 = len(str2)\n",
        "  #If lengths of both strings are not same, they can't be anagrams\n",
        "  if n1!=n2:\n",
        "    return False\n",
        " #Sorting both the strings\n",
        "  str1= sorted(str1)\n",
        "  str2 = sorted(str2)\n",
        " #Comparing sorted strings\n",
        "  for i in range (0,n1):\n",
        "    if str1[i]!=str2[i]:\n",
        "      return False\n",
        "  return True\n",
        "\n",
        "a = str(input(\"Enter the first string:\"))\n",
        "b = str(input(\"Enter the second string:\"))\n",
        "\n",
        "if isPalindrome(a):\n",
        "  print (a,\"is a palindrome\")\n",
        "if isPalindrome(b):\n",
        "  print (b,\"is a palindrome\")\n",
        "elif areAnagrams(a, b):\n",
        "  print (a,\"and\",b,\"are anagrams\")\n",
        "else:\n",
        "  print (\"Both\", a,\"and\",b,\"are neither palindromes nor anagrams\")"
      ],
      "execution_count": 16,
      "outputs": [
        {
          "output_type": "stream",
          "text": [
            "Enter the first string:aka\n",
            "Enter the second string:akka\n",
            "aka is a palindrome\n",
            "akka is a palindrome\n"
          ],
          "name": "stdout"
        }
      ]
    },
    {
      "cell_type": "code",
      "metadata": {
        "id": "OhtWjQHpskHj",
        "colab_type": "code",
        "colab": {
          "base_uri": "https://localhost:8080/",
          "height": 51
        },
        "outputId": "104403b2-812f-40c5-e568-f726d26cb39e"
      },
      "source": [
        "#Solution 4\n",
        "def modifyString(str):\n",
        "  modifiedString=\"\"\n",
        "  for character in str:\n",
        "    if character.isalpha():\n",
        "      modifiedString += character\n",
        "  return modifiedString.lower()\n",
        "\n",
        "#Testing the function\n",
        "a = str(input(\"Enter the string:\"))\n",
        "print (\"The output is:\",modifyString(a))\n"
      ],
      "execution_count": 18,
      "outputs": [
        {
          "output_type": "stream",
          "text": [
            "Enter the string:A$ 97d\n",
            "The output is: ad\n"
          ],
          "name": "stdout"
        }
      ]
    }
  ]
}